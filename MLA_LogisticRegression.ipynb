{
  "nbformat": 4,
  "nbformat_minor": 0,
  "metadata": {
    "colab": {
      "name": "MLA_LogisticRegression.ipynb",
      "provenance": [],
      "authorship_tag": "ABX9TyP6suHxAFHUF5CV0N/bC0Nu",
      "include_colab_link": true
    },
    "kernelspec": {
      "name": "python3",
      "display_name": "Python 3"
    },
    "language_info": {
      "name": "python"
    }
  },
  "cells": [
    {
      "cell_type": "markdown",
      "metadata": {
        "id": "view-in-github",
        "colab_type": "text"
      },
      "source": [
        "<a href=\"https://colab.research.google.com/github/mujahed85/.NetInterviewQuestions/blob/master/MLA_LogisticRegression.ipynb\" target=\"_parent\"><img src=\"https://colab.research.google.com/assets/colab-badge.svg\" alt=\"Open In Colab\"/></a>"
      ]
    },
    {
      "cell_type": "code",
      "metadata": {
        "id": "0Ljgjmfm5J0p"
      },
      "source": [
        "#https://github.com/NubeEra-Samples/ml-algo.git\n",
        "# Steps to Solve\n",
        "################\n",
        "#Step 1: Import packages, functions, and classes\n",
        "#Step 2: Get data to work with and, if appropriate, transform it\n",
        "#Step 3: Create a classification model and train (or fit) it with your existing data\n",
        "#Step 4: Evaluate your model to see if its performance is satisfactory"
      ],
      "execution_count": 1,
      "outputs": []
    },
    {
      "cell_type": "code",
      "metadata": {
        "id": "iAKEV2uv5-Y4"
      },
      "source": [
        "#Step 1: Import packages, functions, and classes\n",
        "################################################\n",
        "import matplotlib.pyplot as plt\n",
        "import numpy as np\n",
        "from sklearn.linear_model import LogisticRegression\n",
        "from sklearn.metrics import classification_report, confusion_matrix"
      ],
      "execution_count": 2,
      "outputs": []
    },
    {
      "cell_type": "code",
      "metadata": {
        "id": "MvWj5hsJ6HKk"
      },
      "source": [
        "#Step 2: Get Data\n",
        "#################\n",
        "x = np.arange(10).reshape(-1, 1)\n",
        "y = np.array([0, 0, 0, 0, 1, 1, 1, 1, 1, 1])"
      ],
      "execution_count": 3,
      "outputs": []
    },
    {
      "cell_type": "code",
      "metadata": {
        "colab": {
          "base_uri": "https://localhost:8080/"
        },
        "id": "KyFHBYly6XPJ",
        "outputId": "c1dcdc06-765e-4a74-af67-8f79cf82b4a1"
      },
      "source": [
        "#Step 3: Create Model & Train it\n",
        "################################ \n",
        "#Create Model\n",
        "model = LogisticRegression(solver='liblinear', random_state=0)\n",
        "\n",
        "#Train Model\n",
        "model.fit(x, y)\n",
        "#model.classes_"
      ],
      "execution_count": 6,
      "outputs": [
        {
          "output_type": "execute_result",
          "data": {
            "text/plain": [
              "array([0, 1])"
            ]
          },
          "metadata": {
            "tags": []
          },
          "execution_count": 6
        }
      ]
    },
    {
      "cell_type": "code",
      "metadata": {
        "id": "ow239DJR7E8_"
      },
      "source": [
        ""
      ],
      "execution_count": null,
      "outputs": []
    }
  ]
}